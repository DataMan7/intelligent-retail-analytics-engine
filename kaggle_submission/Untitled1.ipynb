{
 "cells": [
  {
   "cell_type": "code",
   "execution_count": null,
   "id": "5c9143ab-1db2-48f7-b81b-b9ef87e06e09",
   "metadata": {},
   "outputs": [],
   "source": []
  }
 ],
 "metadata": {
  "kernelspec": {
   "display_name": "",
   "name": ""
  },
  "language_info": {
   "name": ""
  }
 },
 "nbformat": 4,
 "nbformat_minor": 5
}
